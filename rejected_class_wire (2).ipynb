{
 "cells": [
  {
   "cell_type": "markdown",
   "metadata": {},
   "source": [
    "## BDEX Data Extraction"
   ]
  },
  {
   "cell_type": "markdown",
   "metadata": {},
   "source": [
    "### Prereq:\n",
    "- Python3.7+\n",
    "- Run on `{BQNT /I:NOBOX <GO>}` and Trusted Kernel.\n",
    "- Install the library first using:\n",
    "    - !pip install aiohttp\n",
    "    - !pip install minio"
   ]
  },
  {
   "cell_type": "code",
   "execution_count": 1,
   "metadata": {},
   "outputs": [
    {
     "name": "stdout",
     "output_type": "stream",
     "text": [
      "Please specify how many weeks of data you would like to extract:\n",
      "You've specified 3 weeks.\n",
      "Then please run all cells and find output in the folder bdex_output.\n"
     ]
    }
   ],
   "source": [
    "print(\"Please specify how many weeks of data you would like to extract:\")\n",
    "############# To manually change input ###################\n",
    "number_of_weeks = 3\n",
    "############# To manually change input ###################\n",
    "print(\"You've specified \"+str(number_of_weeks)+\" weeks.\")\n",
    "print(\"Then please run all cells and find output in the folder bdex_output.\")"
   ]
  },
  {
   "cell_type": "markdown",
   "metadata": {},
   "source": [
    "### Main:"
   ]
  },
  {
   "cell_type": "code",
   "execution_count": 2,
   "metadata": {},
   "outputs": [
    {
     "name": "stdout",
     "output_type": "stream",
     "text": [
      "Looking in indexes: https://artifactory.inf.bloomberg.com/artifactory/api/pypi/bloomberg-pypi/simple\n",
      "Requirement already satisfied: aiohttp in c:\\users\\jlee3524\\anaconda3\\lib\\site-packages (3.8.1)\n",
      "Requirement already satisfied: yarl<2.0,>=1.0 in c:\\users\\jlee3524\\anaconda3\\lib\\site-packages (from aiohttp) (1.6.3)\n",
      "Requirement already satisfied: frozenlist>=1.1.1 in c:\\users\\jlee3524\\anaconda3\\lib\\site-packages (from aiohttp) (1.2.0)\n",
      "Requirement already satisfied: attrs>=17.3.0 in c:\\users\\jlee3524\\anaconda3\\lib\\site-packages (from aiohttp) (21.4.0)\n",
      "Requirement already satisfied: multidict<7.0,>=4.5 in c:\\users\\jlee3524\\anaconda3\\lib\\site-packages (from aiohttp) (5.1.0)\n",
      "Requirement already satisfied: async-timeout<5.0,>=4.0.0a3 in c:\\users\\jlee3524\\anaconda3\\lib\\site-packages (from aiohttp) (4.0.1)\n",
      "Requirement already satisfied: charset-normalizer<3.0,>=2.0 in c:\\users\\jlee3524\\anaconda3\\lib\\site-packages (from aiohttp) (2.0.4)\n",
      "Requirement already satisfied: aiosignal>=1.1.2 in c:\\users\\jlee3524\\anaconda3\\lib\\site-packages (from aiohttp) (1.2.0)\n",
      "Requirement already satisfied: typing-extensions>=3.6.5 in c:\\users\\jlee3524\\anaconda3\\lib\\site-packages (from async-timeout<5.0,>=4.0.0a3->aiohttp) (4.1.1)\n",
      "Requirement already satisfied: idna>=2.0 in c:\\users\\jlee3524\\anaconda3\\lib\\site-packages (from yarl<2.0,>=1.0->aiohttp) (3.3)\n"
     ]
    }
   ],
   "source": [
    "!pip install aiohttp"
   ]
  },
  {
   "cell_type": "code",
   "execution_count": 3,
   "metadata": {},
   "outputs": [
    {
     "name": "stdout",
     "output_type": "stream",
     "text": [
      "Looking in indexes: https://artifactory.inf.bloomberg.com/artifactory/api/pypi/bloomberg-pypi/simple\n",
      "Requirement already satisfied: minio in c:\\users\\jlee3524\\anaconda3\\lib\\site-packages (7.1.10)\n",
      "Requirement already satisfied: urllib3 in c:\\users\\jlee3524\\anaconda3\\lib\\site-packages (from minio) (1.26.9)\n",
      "Requirement already satisfied: certifi in c:\\users\\jlee3524\\anaconda3\\lib\\site-packages (from minio) (2021.10.8)\n"
     ]
    }
   ],
   "source": [
    "!pip install minio"
   ]
  },
  {
   "cell_type": "code",
   "execution_count": 4,
   "metadata": {},
   "outputs": [],
   "source": [
    "import copy\n",
    "from src.bdex_fe import (\n",
    "    apply_and_filter,\n",
    "    bdex_search,\n",
    "    get_tags,\n",
    "    GetData,\n",
    "    PreProcessor,\n",
    ")\n",
    "from src.bdex_fe.products import bnef"
   ]
  },
  {
   "cell_type": "code",
   "execution_count": 5,
   "metadata": {},
   "outputs": [
    {
     "data": {
      "text/plain": [
       "['dskt2.AswoNewsStory.week.202231',\n",
       " 'dskt2.AswoNewsStory.week.202230',\n",
       " 'dskt2.AswoNewsStory.week.202229']"
      ]
     },
     "execution_count": 5,
     "metadata": {},
     "output_type": "execute_result"
    }
   ],
   "source": [
    "query_tags = get_tags(product=\"bnef\", number_of_weeks=number_of_weeks)\n",
    "query_tags"
   ]
  },
  {
   "cell_type": "code",
   "execution_count": 6,
   "metadata": {},
   "outputs": [],
   "source": [
    "# from sample_data import all_recs\n",
    "all_recs = await bdex_search(\n",
    "    query_tags,\n",
    "    proxy=None  # not needed on (?:nj|ny)lxdev\\d or CORP\n",
    ")"
   ]
  },
  {
   "cell_type": "code",
   "execution_count": 7,
   "metadata": {},
   "outputs": [],
   "source": [
    "TAG_FILTERS = {  # example\n",
    "    \"and_tags\": [  # contains all\n",
    "#         \"dskt2.AswoNewsStory.language.ENGLISH\",\n",
    "#         \"dskt2.AswoNewsStory.jflo.indexed.true\"\n",
    "    ],\n",
    "    \"or_tags\": [  # contains any\n",
    "        \n",
    "    ],\n",
    "    \"no_tags\": [  # contains none\n",
    "        \n",
    "    ],\n",
    "    \"any_substr\": [  # contains in any\n",
    "#         \"AswoNewsStory\"\n",
    "    ],\n",
    "}\n",
    "GET_DATA = {\n",
    "    \"doc_needed\": False,\n",
    "    \"source_data_needed\": False,\n",
    "    # if any of the above are True, fill these:\n",
    "    \"bcos_account\": None,\n",
    "    \"bcos_secret\": None,\n",
    "    \"minio_access\": None,\n",
    "    \"minio_secret\": None\n",
    "}\n",
    "\n",
    "functions = []\n",
    "preproc = PreProcessor(**TAG_FILTERS)\n",
    "get_data_client = GetData(**GET_DATA)\n",
    "\n",
    "product_specific_extraction_functions = [bnef.extract_suid, bnef.extract_resolution]\n",
    "\n",
    "\n",
    "functions = (preproc.functions +\n",
    "             product_specific_extraction_functions +\n",
    "             get_data_client.functions +\n",
    "             [])  # potential tokenisers"
   ]
  },
  {
   "cell_type": "code",
   "execution_count": 8,
   "metadata": {},
   "outputs": [
    {
     "name": "stdout",
     "output_type": "stream",
     "text": [
      "processing extract_tags                 :   7274 records |███████████| 100%[-00:00,  173607.12 records/s] 00:00\n",
      "processing extract_suid                 :   7274 records |███████████| 100%[-00:00,  405197.79 records/s] 00:00\n",
      "processing extract_resolution           :   7274 records |███████████| 100%[-00:00,  486670.40 records/s] 00:00\n"
     ]
    }
   ],
   "source": [
    "recs = copy.deepcopy(all_recs)\n",
    "for f in functions:\n",
    "    apply_and_filter(recs, f)"
   ]
  },
  {
   "cell_type": "code",
   "execution_count": 9,
   "metadata": {
    "scrolled": true
   },
   "outputs": [
    {
     "data": {
      "text/plain": [
       "{'tags': ['dskt2.AswoNewsStory.BNEF-1017083.resolution_time.2022-08-01T12:41:45.185Z',\n",
       "  'dskt2.AswoNewsStory.BNEF-1017083.financing_id.NA',\n",
       "  'dskt2.AswoNewsStory.BNEF-1017083.asset_id.NA',\n",
       "  'dskt2.AswoNewsStory.BNEF-1017083.reason.Record already up-to-date',\n",
       "  'dskt2.AswoNewsStory.jflo.indexed.true',\n",
       "  'dskt2.AswoNewsStory.BNEF-1017083.region.EMEA',\n",
       "  'dskt2.AswoNewsStory.jflo.week.202231',\n",
       "  'dskt2.AswoNewsStory.BNEF-1017083.resolution.Rejected',\n",
       "  'dskt2.AswoNewsStory.jflo.issue.BCE-35642',\n",
       "  'dskt2.AswoNewsStory.jflo.created.true',\n",
       "  'dskt2.AswoNewsStory.jflo.issue.BNEF-1017083',\n",
       "  'dskt2.AswoNewsStory.week.202231',\n",
       "  'dskt2.AswoNewsStory.spam_score.26',\n",
       "  'dskt2.AswoNewsStory.region_score.100',\n",
       "  'dskt2.AswoNewsStory.class.19776',\n",
       "  'dskt2.AswoNewsStory.suid.RFXRGLMB2SJQ',\n",
       "  'dskt2.AswoNewsStory.language.ENGLISH',\n",
       "  'dskt2.AswoNewsStory.arrivalTime.2022-08-01T12:17:09.620Z',\n",
       "  'dskt2.AswoNewsStory.wireId.1806',\n",
       "  'dskt2.AswoNewsStory.topicClusterId.WvEZYC8ai3H0WId52irZWMw==',\n",
       "  'dskt2.AswoNewsStory.region.EMEA',\n",
       "  'dskt2.AswoNewsStory.niCodes.GDNEFWIND',\n",
       "  'dskt2.AswoNewsStory.headline.Windpower E&D: First order of Siemens Gamesa recyclable wind turbine blades delivered to German offshore project',\n",
       "  'dskt2.AswoNewsStory.wireCode.NS1'],\n",
       " 'doc_sha': 'd935f9cb118b945197923f19a97d052e8ada5b2b544ee935d9d68a365ba94c09',\n",
       " 'document': 'https://bcos.prod.blpprofessional.com/v1/dt.extraction/documents/d935f9cb118b945197923f19a97d052e8ada5b2b544ee935d9d68a365ba94c09/document.htm?versionId=3V00000000000000000000000000000000000000000000000000000000000000000000000001000001825956B36C',\n",
       " 'sourcedata': [],\n",
       " 'mime_type': 'text/html',\n",
       " 'asof': '2022-08-01T12:17:10.552000+00:00',\n",
       " 'suid': 'RFXRGLMB2SJQ',\n",
       " 'resolution': 'Rejected'}"
      ]
     },
     "execution_count": 9,
     "metadata": {},
     "output_type": "execute_result"
    }
   ],
   "source": [
    "recs[0]"
   ]
  },
  {
   "cell_type": "markdown",
   "metadata": {},
   "source": [
    "### Exporting as a Table via Reverse Engineering"
   ]
  },
  {
   "cell_type": "code",
   "execution_count": 10,
   "metadata": {},
   "outputs": [],
   "source": [
    "import pandas as pd\n",
    "from datetime import date\n",
    "import re\n",
    "\n",
    "today = date.today()\n",
    "\n",
    "def tags_list_to_dict(cell):\n",
    "    tags_dict = dict()\n",
    "    issue_info_list = [] # to store info starting with 'dskt2.AswoNewsStory.BNEF-xxxxxx.'\n",
    "    for i in cell:\n",
    "        #jflo related tags\n",
    "        if i.startswith('dskt2.AswoNewsStory.jflo.indexed.'):\n",
    "            tags_dict['jflo.indexed'] = i.partition('dskt2.AswoNewsStory.jflo.indexed.')[2]\n",
    "        if i.startswith('dskt2.AswoNewsStory.jflo.created.'):\n",
    "            tags_dict['jflo.created'] = i.partition('dskt2.AswoNewsStory.jflo.created.')[2]  \n",
    "        if i.startswith('dskt2.AswoNewsStory.jflo.week.'):\n",
    "            tags_dict['jflo.week'] = i.partition('dskt2.AswoNewsStory.jflo.week.')[2] \n",
    "            \n",
    "        # non-archived\n",
    "        if i.startswith('dskt2.AswoNewsStory.jflo.issue.'):\n",
    "            # there might be multiple issues per source, recording the existence of such\n",
    "            jflo_id = i.partition('dskt2.AswoNewsStory.jflo.issue.')[2]  \n",
    "            if 'jflo.issue' in tags_dict.keys():\n",
    "                if str(tags_dict['jflo.issue']) != str(jflo_id):\n",
    "                    tags_dict['multiple_issue'] = \"Yes\"\n",
    "                    tags_dict['jflo.issue'] = jflo_id # regard the one with 'jflo.issue' prefix as the dominant one\n",
    "            else:\n",
    "                tags_dict['jflo.issue'] = jflo_id\n",
    "        # archived: here we take the first BNEF id in the string as 'jflo.issue'\n",
    "        if i.startswith('dskt2.AswoNewsStory.BNEF-'):\n",
    "            m = re.search('dskt2.AswoNewsStory.BNEF-(.+?)\\.', i)\n",
    "            if m:\n",
    "                jflo_id = 'BNEF-'+m.group(1)            \n",
    "                # there might be multiple issues per source, recording the existence of such\n",
    "                if 'jflo.issue' in tags_dict.keys():\n",
    "                    if str(tags_dict['jflo.issue']) != str(jflo_id):\n",
    "                        tags_dict['multiple_issue'] = \"Yes\"\n",
    "                else:\n",
    "                    tags_dict['jflo.issue'] = jflo_id  \n",
    "                    \n",
    "        #source related tags\n",
    "        if i.startswith('dskt2.AswoNewsStory.wireId.'):\n",
    "            tags_dict['wireId'] = i.partition('dskt2.AswoNewsStory.wireId.')[2]\n",
    "        if i.startswith('dskt2.AswoNewsStory.wireCode.'):\n",
    "            tags_dict['wireCode'] = i.partition('dskt2.AswoNewsStory.wireCode.')[2]        \n",
    "        if i.startswith('dskt2.AswoNewsStory.class.'):\n",
    "            tags_dict['class'] = i.partition('dskt2.AswoNewsStory.class.')[2]\n",
    "        if i.startswith('dskt2.AswoNewsStory.suid.'):\n",
    "            tags_dict['tags_suid'] = i.partition('dskt2.AswoNewsStory.suid.')[2]\n",
    "        if i.startswith('dskt2.AswoNewsStory.headline.'):\n",
    "            tags_dict['headline'] = i.partition('dskt2.AswoNewsStory.headline.')[2]        \n",
    "        if i.startswith('dskt2.AswoNewsStory.topicClusterId.'):\n",
    "            tags_dict['topicClusterId'] = i.partition('dskt2.AswoNewsStory.topicClusterId.')[2]     \n",
    "        if i.startswith('dskt2.AswoNewsStory.niCodes.'):\n",
    "            tags_dict['niCodes'] = i.partition('dskt2.AswoNewsStory.niCodes.')[2]          \n",
    "        if i.startswith('dskt2.AswoNewsStory.language.'):\n",
    "            tags_dict['language'] = i.partition('dskt2.AswoNewsStory.language.')[2]           \n",
    "        if i.startswith('dskt2.AswoNewsStory.arrivalTime.'):\n",
    "            tags_dict['arrivalTime'] = i.partition('dskt2.AswoNewsStory.arrivalTime.')[2]  \n",
    "        #other info\n",
    "        if i.startswith('dskt2.AswoNewsStory.region_score.'):\n",
    "            tags_dict['region_score'] = i.partition('dskt2.AswoNewsStory.region_score.')[2]    \n",
    "        if i.startswith('dskt2.AswoNewsStory.region.'):\n",
    "            tags_dict['region'] = i.partition('dskt2.AswoNewsStory.region.')[2]          \n",
    "        if i.startswith('dskt2.AswoNewsStory.spam_score.'):\n",
    "            tags_dict['spam_score'] = i.partition('dskt2.AswoNewsStory.spam_score.')[2] \n",
    "        if i.startswith('dskt2.AswoNewsStory.week.'):\n",
    "            tags_dict['week'] = i.partition('dskt2.AswoNewsStory.week.')[2]   \n",
    "        #currently not including details related to individual jflo issues that were clones\n",
    "        #individual issue info\n",
    "        if i.startswith('dskt2.AswoNewsStory.BNEF-'):\n",
    "            issue_info_list.append(i.partition('dskt2.AswoNewsStory.')[2])    \n",
    "    #iterate to record key JFLO issue details into dictionary\n",
    "    if 'jflo.issue' in tags_dict:\n",
    "        prefix = tags_dict['jflo.issue'] \n",
    "        for i in issue_info_list:\n",
    "            if i.startswith(prefix + '.region.'):\n",
    "                tags_dict['jflo_region'] = i.partition(prefix + '.region.')[2]   \n",
    "            if i.startswith(prefix + '.asset_id.'):\n",
    "                tags_dict['jflo_asset_id'] = i.partition(prefix + '.asset_id.')[2]             \n",
    "            if i.startswith(prefix + '.resolution_time.'):\n",
    "                tags_dict['jflo_resolution_time'] = i.partition(prefix + '.resolution_time.')[2]             \n",
    "            if i.startswith(prefix + '.reason.'):\n",
    "                tags_dict['jflo_reason'] = i.partition(prefix + '.reason.')[2]               \n",
    "            if i.startswith(prefix + '.financing_id.'):\n",
    "                tags_dict['jflo_financing_id'] = i.partition(prefix + '.financing_id.')[2]    \n",
    "            if i.startswith(prefix + '.resolution.'):\n",
    "                tags_dict['jflo_resolution'] = i.partition(prefix + '.resolution.')[2]  \n",
    "    return tags_dict"
   ]
  },
  {
   "cell_type": "code",
   "execution_count": 11,
   "metadata": {},
   "outputs": [],
   "source": [
    "pd.set_option('display.max_rows', 500)\n",
    "pd.set_option('display.max_columns', 500)\n",
    "pd.set_option('display.width', 1000)"
   ]
  },
  {
   "cell_type": "code",
   "execution_count": 12,
   "metadata": {
    "scrolled": false
   },
   "outputs": [
    {
     "data": {
      "text/html": [
       "<div>\n",
       "<style scoped>\n",
       "    .dataframe tbody tr th:only-of-type {\n",
       "        vertical-align: middle;\n",
       "    }\n",
       "\n",
       "    .dataframe tbody tr th {\n",
       "        vertical-align: top;\n",
       "    }\n",
       "\n",
       "    .dataframe thead th {\n",
       "        text-align: right;\n",
       "    }\n",
       "</style>\n",
       "<table border=\"1\" class=\"dataframe\">\n",
       "  <thead>\n",
       "    <tr style=\"text-align: right;\">\n",
       "      <th></th>\n",
       "      <th>doc_sha</th>\n",
       "      <th>document</th>\n",
       "      <th>sourcedata</th>\n",
       "      <th>mime_type</th>\n",
       "      <th>asof</th>\n",
       "      <th>suid</th>\n",
       "      <th>resolution</th>\n",
       "      <th>jflo.issue</th>\n",
       "      <th>jflo.indexed</th>\n",
       "      <th>jflo.week</th>\n",
       "      <th>multiple_issue</th>\n",
       "      <th>jflo.created</th>\n",
       "      <th>week</th>\n",
       "      <th>spam_score</th>\n",
       "      <th>region_score</th>\n",
       "      <th>class</th>\n",
       "      <th>tags_suid</th>\n",
       "      <th>language</th>\n",
       "      <th>arrivalTime</th>\n",
       "      <th>wireId</th>\n",
       "      <th>topicClusterId</th>\n",
       "      <th>region</th>\n",
       "      <th>niCodes</th>\n",
       "      <th>headline</th>\n",
       "      <th>wireCode</th>\n",
       "      <th>jflo_resolution_time</th>\n",
       "      <th>jflo_financing_id</th>\n",
       "      <th>jflo_asset_id</th>\n",
       "      <th>jflo_reason</th>\n",
       "      <th>jflo_region</th>\n",
       "      <th>jflo_resolution</th>\n",
       "    </tr>\n",
       "  </thead>\n",
       "  <tbody>\n",
       "    <tr>\n",
       "      <th>1</th>\n",
       "      <td>d935f9cb118b945197923f19a97d052e8ada5b2b544ee9...</td>\n",
       "      <td>https://bcos.prod.blpprofessional.com/v1/dt.ex...</td>\n",
       "      <td>[]</td>\n",
       "      <td>text/html</td>\n",
       "      <td>2022-08-01T12:17:10.552000+00:00</td>\n",
       "      <td>RFXRGLMB2SJQ</td>\n",
       "      <td>Rejected</td>\n",
       "      <td>BNEF-1017083</td>\n",
       "      <td>true</td>\n",
       "      <td>202231</td>\n",
       "      <td>Yes</td>\n",
       "      <td>true</td>\n",
       "      <td>202231</td>\n",
       "      <td>26</td>\n",
       "      <td>100</td>\n",
       "      <td>19776</td>\n",
       "      <td>RFXRGLMB2SJQ</td>\n",
       "      <td>ENGLISH</td>\n",
       "      <td>2022-08-01T12:17:09.620Z</td>\n",
       "      <td>1806</td>\n",
       "      <td>WvEZYC8ai3H0WId52irZWMw==</td>\n",
       "      <td>EMEA</td>\n",
       "      <td>GDNEFWIND</td>\n",
       "      <td>Windpower E&amp;D: First order of Siemens Gamesa r...</td>\n",
       "      <td>NS1</td>\n",
       "      <td>2022-08-01T12:41:45.185Z</td>\n",
       "      <td>NA</td>\n",
       "      <td>NA</td>\n",
       "      <td>Record already up-to-date</td>\n",
       "      <td>EMEA</td>\n",
       "      <td>Rejected</td>\n",
       "    </tr>\n",
       "    <tr>\n",
       "      <th>1</th>\n",
       "      <td>e6f0f3ce98307e83d81407293be77c64adfae75ae47c85...</td>\n",
       "      <td>https://bcos.prod.blpprofessional.com/v1/dt.ex...</td>\n",
       "      <td>[]</td>\n",
       "      <td>text/html</td>\n",
       "      <td>2022-08-01T12:15:31.639000+00:00</td>\n",
       "      <td>RFXRDUBSWSG1</td>\n",
       "      <td>Rejected</td>\n",
       "      <td>BNEF-1017080</td>\n",
       "      <td>true</td>\n",
       "      <td>202231</td>\n",
       "      <td>Yes</td>\n",
       "      <td>true</td>\n",
       "      <td>202231</td>\n",
       "      <td>66</td>\n",
       "      <td>100</td>\n",
       "      <td>7</td>\n",
       "      <td>RFXRDUBSWSG1</td>\n",
       "      <td>ENGLISH</td>\n",
       "      <td>2022-08-01T12:15:30.741Z</td>\n",
       "      <td>2691</td>\n",
       "      <td>TfWt2+6M3MNMOuct8XqBZVg==</td>\n",
       "      <td>EMEA</td>\n",
       "      <td>GDNEFSOLAR</td>\n",
       "      <td>Germany adds 3.2 GW of solar 1 GW of onshore w...</td>\n",
       "      <td>AII</td>\n",
       "      <td>2022-08-01T12:22:49.213Z</td>\n",
       "      <td>NA</td>\n",
       "      <td>NA</td>\n",
       "      <td>Not enough information for update</td>\n",
       "      <td>EMEA</td>\n",
       "      <td>Rejected</td>\n",
       "    </tr>\n",
       "    <tr>\n",
       "      <th>1</th>\n",
       "      <td>d3f5be402513444ae9361d5c8ead996c09266e98b88db4...</td>\n",
       "      <td>https://bcos.prod.blpprofessional.com/v1/dt.ex...</td>\n",
       "      <td>[]</td>\n",
       "      <td>text/html</td>\n",
       "      <td>2022-08-01T16:27:28.512000+00:00</td>\n",
       "      <td>RFY31RC60R9C</td>\n",
       "      <td>Rejected</td>\n",
       "      <td>BCE-35767</td>\n",
       "      <td>true</td>\n",
       "      <td>202231</td>\n",
       "      <td>Yes</td>\n",
       "      <td>true</td>\n",
       "      <td>202231</td>\n",
       "      <td>92</td>\n",
       "      <td>92</td>\n",
       "      <td>2</td>\n",
       "      <td>RFY31RC60R9C</td>\n",
       "      <td>ENGLISH</td>\n",
       "      <td>2022-08-01T16:27:27.606Z</td>\n",
       "      <td>956</td>\n",
       "      <td>Th9S7UVqAoP9G0azqZOqCzw==</td>\n",
       "      <td>AMER</td>\n",
       "      <td>GDNEFWIND</td>\n",
       "      <td>New York solicits 2 GW of offshore wind</td>\n",
       "      <td>ITN</td>\n",
       "      <td>NaN</td>\n",
       "      <td>NaN</td>\n",
       "      <td>NaN</td>\n",
       "      <td>NaN</td>\n",
       "      <td>NaN</td>\n",
       "      <td>NaN</td>\n",
       "    </tr>\n",
       "    <tr>\n",
       "      <th>1</th>\n",
       "      <td>a7596c1dad9b08e4088fa744b39b09739cce64ba88b48b...</td>\n",
       "      <td>https://bcos.prod.blpprofessional.com/v1/dt.ex...</td>\n",
       "      <td>[]</td>\n",
       "      <td>text/html</td>\n",
       "      <td>2022-08-01T06:00:10.474000+00:00</td>\n",
       "      <td>RFXA080C92BV</td>\n",
       "      <td>Rejected</td>\n",
       "      <td>BNEF-1016722</td>\n",
       "      <td>true</td>\n",
       "      <td>202231</td>\n",
       "      <td>Yes</td>\n",
       "      <td>true</td>\n",
       "      <td>202231</td>\n",
       "      <td>40</td>\n",
       "      <td>100</td>\n",
       "      <td>151</td>\n",
       "      <td>RFXA080C92BV</td>\n",
       "      <td>ENGLISH</td>\n",
       "      <td>2022-08-01T06:00:08.866Z</td>\n",
       "      <td>89</td>\n",
       "      <td>RFXA080C92BV==</td>\n",
       "      <td>EMEA</td>\n",
       "      <td>GDNEFSOLAR</td>\n",
       "      <td>JLEN Environmental     JLEN   Acquisition</td>\n",
       "      <td>RNS</td>\n",
       "      <td>2022-08-01T14:23:46.156Z</td>\n",
       "      <td>NA</td>\n",
       "      <td>NA</td>\n",
       "      <td>Record already up-to-date</td>\n",
       "      <td>EMEA</td>\n",
       "      <td>Rejected</td>\n",
       "    </tr>\n",
       "    <tr>\n",
       "      <th>1</th>\n",
       "      <td>c5f50ddc9e4cf72d98fc41af343a202bbe6875a9873d52...</td>\n",
       "      <td>https://bcos.prod.blpprofessional.com/v1/dt.ex...</td>\n",
       "      <td>[]</td>\n",
       "      <td>text/html</td>\n",
       "      <td>2022-08-01T14:31:37.535000+00:00</td>\n",
       "      <td>RFXXOOMB2SJV</td>\n",
       "      <td>Rejected</td>\n",
       "      <td>BNEF-1017208</td>\n",
       "      <td>true</td>\n",
       "      <td>202231</td>\n",
       "      <td>Yes</td>\n",
       "      <td>true</td>\n",
       "      <td>202231</td>\n",
       "      <td>30</td>\n",
       "      <td>100</td>\n",
       "      <td>6122</td>\n",
       "      <td>RFXXOOMB2SJV</td>\n",
       "      <td>ENGLISH</td>\n",
       "      <td>2022-08-01T14:31:36.695Z</td>\n",
       "      <td>1806</td>\n",
       "      <td>WGbzmQ1NihdjtElDSpQRY6g==</td>\n",
       "      <td>EMEA</td>\n",
       "      <td>GDNEFWIND</td>\n",
       "      <td>Offshore: Recyclable wind turbine blades opera...</td>\n",
       "      <td>NS1</td>\n",
       "      <td>2022-08-01T14:48:07.914Z</td>\n",
       "      <td>NA</td>\n",
       "      <td>NA</td>\n",
       "      <td>Record already up-to-date</td>\n",
       "      <td>EMEA</td>\n",
       "      <td>Rejected</td>\n",
       "    </tr>\n",
       "  </tbody>\n",
       "</table>\n",
       "</div>"
      ],
      "text/plain": [
       "                                             doc_sha                                           document sourcedata  mime_type                              asof          suid resolution    jflo.issue jflo.indexed jflo.week multiple_issue jflo.created    week spam_score region_score  class     tags_suid language               arrivalTime wireId             topicClusterId region     niCodes                                           headline wireCode      jflo_resolution_time jflo_financing_id jflo_asset_id                        jflo_reason jflo_region jflo_resolution\n",
       "1  d935f9cb118b945197923f19a97d052e8ada5b2b544ee9...  https://bcos.prod.blpprofessional.com/v1/dt.ex...         []  text/html  2022-08-01T12:17:10.552000+00:00  RFXRGLMB2SJQ   Rejected  BNEF-1017083         true    202231            Yes         true  202231         26          100  19776  RFXRGLMB2SJQ  ENGLISH  2022-08-01T12:17:09.620Z   1806  WvEZYC8ai3H0WId52irZWMw==   EMEA   GDNEFWIND  Windpower E&D: First order of Siemens Gamesa r...      NS1  2022-08-01T12:41:45.185Z                NA            NA          Record already up-to-date        EMEA        Rejected\n",
       "1  e6f0f3ce98307e83d81407293be77c64adfae75ae47c85...  https://bcos.prod.blpprofessional.com/v1/dt.ex...         []  text/html  2022-08-01T12:15:31.639000+00:00  RFXRDUBSWSG1   Rejected  BNEF-1017080         true    202231            Yes         true  202231         66          100      7  RFXRDUBSWSG1  ENGLISH  2022-08-01T12:15:30.741Z   2691  TfWt2+6M3MNMOuct8XqBZVg==   EMEA  GDNEFSOLAR  Germany adds 3.2 GW of solar 1 GW of onshore w...      AII  2022-08-01T12:22:49.213Z                NA            NA  Not enough information for update        EMEA        Rejected\n",
       "1  d3f5be402513444ae9361d5c8ead996c09266e98b88db4...  https://bcos.prod.blpprofessional.com/v1/dt.ex...         []  text/html  2022-08-01T16:27:28.512000+00:00  RFY31RC60R9C   Rejected     BCE-35767         true    202231            Yes         true  202231         92           92      2  RFY31RC60R9C  ENGLISH  2022-08-01T16:27:27.606Z    956  Th9S7UVqAoP9G0azqZOqCzw==   AMER   GDNEFWIND            New York solicits 2 GW of offshore wind      ITN                       NaN               NaN           NaN                                NaN         NaN             NaN\n",
       "1  a7596c1dad9b08e4088fa744b39b09739cce64ba88b48b...  https://bcos.prod.blpprofessional.com/v1/dt.ex...         []  text/html  2022-08-01T06:00:10.474000+00:00  RFXA080C92BV   Rejected  BNEF-1016722         true    202231            Yes         true  202231         40          100    151  RFXA080C92BV  ENGLISH  2022-08-01T06:00:08.866Z     89             RFXA080C92BV==   EMEA  GDNEFSOLAR          JLEN Environmental     JLEN   Acquisition      RNS  2022-08-01T14:23:46.156Z                NA            NA          Record already up-to-date        EMEA        Rejected\n",
       "1  c5f50ddc9e4cf72d98fc41af343a202bbe6875a9873d52...  https://bcos.prod.blpprofessional.com/v1/dt.ex...         []  text/html  2022-08-01T14:31:37.535000+00:00  RFXXOOMB2SJV   Rejected  BNEF-1017208         true    202231            Yes         true  202231         30          100   6122  RFXXOOMB2SJV  ENGLISH  2022-08-01T14:31:36.695Z   1806  WGbzmQ1NihdjtElDSpQRY6g==   EMEA   GDNEFWIND  Offshore: Recyclable wind turbine blades opera...      NS1  2022-08-01T14:48:07.914Z                NA            NA          Record already up-to-date        EMEA        Rejected"
      ]
     },
     "execution_count": 12,
     "metadata": {},
     "output_type": "execute_result"
    }
   ],
   "source": [
    "import warnings\n",
    "warnings.simplefilter(action='ignore', category=FutureWarning)\n",
    "\n",
    "comb = pd.DataFrame()\n",
    "for r in recs:\n",
    "    temp = pd.DataFrame(list(r.items())).set_index(0).transpose()\n",
    "    comb = comb.append(temp)\n",
    "#unstack tags content into multiple columns    \n",
    "res = comb['tags'].apply(tags_list_to_dict).apply(pd.Series)\n",
    "res = pd.concat([comb.drop(['tags'], axis=1), res], axis=1)\n",
    "res.head()"
   ]
  },
  {
   "cell_type": "code",
   "execution_count": 13,
   "metadata": {
    "scrolled": true
   },
   "outputs": [],
   "source": [
    "# to avoid Excel's limit of 65,530 URLS per worksheet\n",
    "writer = pd.ExcelWriter('bdex_output/res-'+str(today)+'.xlsx', engine='xlsxwriter',options={'strings_to_urls': False})\n",
    "res.to_excel(writer)\n",
    "writer.close()"
   ]
  },
  {
   "cell_type": "code",
   "execution_count": 14,
   "metadata": {
    "scrolled": true
   },
   "outputs": [],
   "source": [
    "#filter jflo_Resolution = \"Rejected\"\n",
    "newRes=res[res['jflo_resolution']=='Rejected']\n",
    "#find duplicate of combinations (class+wireId) from rejected \n",
    "newRes=newRes[newRes.duplicated(['class','wireId'], keep=False)]\n",
    "\n",
    "#counts duplicate sources\n",
    "duplicateCount= newRes.pivot_table(index = ['wireId', 'class'], aggfunc ='size')\n",
    "\n",
    "duplicateCount=duplicateCount.reset_index()\n",
    "duplicateCount.columns = ['wireId', 'class', 'count']\n",
    "\n",
    "import numpy as np\n",
    "duplicateCount['rejection%']=(duplicateCount['count']/res.shape[0]*100)"
   ]
  },
  {
   "cell_type": "code",
   "execution_count": 15,
   "metadata": {},
   "outputs": [],
   "source": [
    "#duplicateCount.drop(duplicateCount[duplicateCount['rejection%'] < 0.15].index, inplace = True)\n",
    "#majorRej=duplicateCount\n",
    "#majorRej"
   ]
  },
  {
   "cell_type": "code",
   "execution_count": 16,
   "metadata": {
    "scrolled": true
   },
   "outputs": [],
   "source": [
    "#finds sources that has been rejected more than certain threshold\n",
    "duplicateCount.drop(duplicateCount[duplicateCount['count'] < 10].index, inplace = True)\n",
    "majorRej=duplicateCount\n",
    "majorRej=majorRej.reset_index(drop=True)"
   ]
  },
  {
   "cell_type": "code",
   "execution_count": 17,
   "metadata": {},
   "outputs": [],
   "source": [
    "#rejection reason for duplicate sources(wire+class)\n",
    "\n",
    "#DOES NOT ACCOUNT FOR THRESHOLD     \n",
    "countReason= newRes.pivot_table(index = ['wireId', 'class', 'jflo_reason'], aggfunc ='size')\n",
    "countReason=countReason.reset_index()\n",
    "\n",
    "#grabbing only the major rejects reasons --threshold\n",
    "\n",
    "majorRejRes=countReason.merge(majorRej, on=['wireId','class'],how='inner')\n",
    "majorRejRes=majorRejRes.drop(['count','rejection%'], axis=1)\n",
    "majorRejRes.columns=['wireId', 'class', 'jflo_reason', 'count']\n"
   ]
  },
  {
   "cell_type": "code",
   "execution_count": 18,
   "metadata": {},
   "outputs": [
    {
     "data": {
      "image/png": "[encoded data removed]",
      "text/plain": [
       "<Figure size 576x432 with 1 Axes>"
      ]
     },
     "metadata": {
      "needs_background": "light"
     },
     "output_type": "display_data"
    }
   ],
   "source": [
    "#make stacked graph \n",
    "# x-axis = source\n",
    "# y-axis = count (group by jflo reason)\n",
    "# stacked = jflo_reason\n",
    "\n",
    "majorRejRes['Source'] = majorRejRes['wireId'] + '_' + majorRejRes['class']\n",
    "\n",
    "majorRejRes = majorRejRes.pivot_table(index=['Source'], columns = ['jflo_reason'], values='count')\n",
    "rejection_reasons = majorRejRes.plot.bar(stacked=True, figsize=(8,6))"
   ]
  },
  {
   "cell_type": "code",
   "execution_count": 19,
   "metadata": {},
   "outputs": [
    {
     "data": {
      "image/png": "[encoded data removed]",
      "text/plain": [
       "<Figure size 576x432 with 1 Axes>"
      ]
     },
     "metadata": {
      "needs_background": "light"
     },
     "output_type": "display_data"
    }
   ],
   "source": [
    "#stacked chart to see how many completed resolutions would be lost if rejected source becomes omitted \n",
    "\n",
    "res['Source'] = res['wireId']+'_'+ res['class']\n",
    "successLoss= res.pivot_table(index=['Source'], columns = ['jflo_resolution'], aggfunc='size')\n",
    "\n",
    "majorRej['Source'] = majorRej['wireId']+'_'+ majorRej['class']\n",
    "successLoss=pd.merge(successLoss.reset_index(), majorRej, how='inner').set_index('Source')\n",
    "\n",
    "successLoss = successLoss.drop(['wireId','class','rejection%','count'], axis=1)\n",
    "successLoss= successLoss.plot.bar(stacked=True, figsize=(8,6))\n"
   ]
  },
  {
   "cell_type": "code",
   "execution_count": null,
   "metadata": {},
   "outputs": [],
   "source": []
  },
  {
   "cell_type": "code",
   "execution_count": null,
   "metadata": {},
   "outputs": [],
   "source": []
  },
  {
   "cell_type": "code",
   "execution_count": null,
   "metadata": {},
   "outputs": [],
   "source": []
  },
  {
   "cell_type": "code",
   "execution_count": null,
   "metadata": {},
   "outputs": [],
   "source": []
  },
  {
   "cell_type": "code",
   "execution_count": null,
   "metadata": {},
   "outputs": [],
   "source": []
  }
 ],
 "metadata": {
  "kernelspec": {
   "display_name": "Python 3 (ipykernel)",
   "language": "python",
   "name": "python3"
  },
  "language_info": {
   "codemirror_mode": {
    "name": "ipython",
    "version": 3
   },
   "file_extension": ".py",
   "mimetype": "text/x-python",
   "name": "python",
   "nbconvert_exporter": "python",
   "pygments_lexer": "ipython3",
   "version": "3.9.12"
  }
 },
 "nbformat": 4,
 "nbformat_minor": 4
}
